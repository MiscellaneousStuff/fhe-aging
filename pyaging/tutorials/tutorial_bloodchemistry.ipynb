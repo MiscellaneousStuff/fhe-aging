{
 "cells": [
  {
   "cell_type": "markdown",
   "id": "2089cc5b-a025-4928-a331-ad33fd1b6a85",
   "metadata": {},
   "source": [
    "[![Open In Colab](https://colab.research.google.com/assets/colab-badge.svg)](https://colab.research.google.com/github/rsinghlab/pyaging/blob/main/tutorials/tutorial_rnaseq.ipynb) [![Open In nbviewer](https://img.shields.io/badge/View%20in-nbviewer-orange)](https://nbviewer.jupyter.org/github/rsinghlab/pyaging/blob/main/tutorials/tutorial_rnaseq.ipynb)"
   ]
  },
  {
   "cell_type": "markdown",
   "id": "31cf37ce-09ee-49d7-a411-719bf65e186e",
   "metadata": {},
   "source": [
    "# Blood chemistry"
   ]
  },
  {
   "cell_type": "markdown",
   "id": "3ea2b570-56af-4e4f-9606-d4c6d071554c",
   "metadata": {},
   "source": [
    "This tutorial is a brief guide for the implementation of PhenoAge. Link to [paper](https://www.aging-us.com/article/101414/text)."
   ]
  },
  {
   "cell_type": "markdown",
   "id": "0a093c7d-dea7-4b34-91bf-08cde6c98011",
   "metadata": {},
   "source": [
    "We just need two packages for this tutorial."
   ]
  },
  {
   "cell_type": "code",
   "execution_count": 14,
   "id": "ad192191-e44f-4994-80ad-ab16cdb7c7e8",
   "metadata": {},
   "outputs": [],
   "source": [
    "import pandas as pd \n",
    "import pyaging as pya"
   ]
  },
  {
   "cell_type": "markdown",
   "id": "d87488d5-731c-469e-ad6f-79c4c9662371",
   "metadata": {},
   "source": [
    "## Download and load example data"
   ]
  },
  {
   "cell_type": "markdown",
   "id": "4c30471f-89e7-4e92-a176-aa3af14a5274",
   "metadata": {},
   "source": [
    "Let's download some example human blood data."
   ]
  },
  {
   "cell_type": "code",
   "execution_count": 15,
   "id": "a0692cf7-e979-4f27-bc14-e1013057c16d",
   "metadata": {},
   "outputs": [
    {
     "name": "stdout",
     "output_type": "stream",
     "text": [
      "|-----> 🏗️ Starting download_example_data function\n",
      "|-----------> Data found in pyaging_data/blood_chemistry_example.pkl\n",
      "|-----> 🎉 Done! [0.0025s]\n"
     ]
    }
   ],
   "source": [
    "pya.data.download_example_data('blood_chemistry_example')"
   ]
  },
  {
   "cell_type": "code",
   "execution_count": 16,
   "id": "13aeb69a-4b0e-40f2-8094-194c9a6b42a1",
   "metadata": {},
   "outputs": [],
   "source": [
    "df = pd.read_pickle('pyaging_data/blood_chemistry_example.pkl')"
   ]
  },
  {
   "cell_type": "code",
   "execution_count": 17,
   "id": "0106112d-21ad-4991-af9f-74b92f46c55b",
   "metadata": {},
   "outputs": [
    {
     "data": {
      "text/html": [
       "<div>\n",
       "<style scoped>\n",
       "    .dataframe tbody tr th:only-of-type {\n",
       "        vertical-align: middle;\n",
       "    }\n",
       "\n",
       "    .dataframe tbody tr th {\n",
       "        vertical-align: top;\n",
       "    }\n",
       "\n",
       "    .dataframe thead th {\n",
       "        text-align: right;\n",
       "    }\n",
       "</style>\n",
       "<table border=\"1\" class=\"dataframe\">\n",
       "  <thead>\n",
       "    <tr style=\"text-align: right;\">\n",
       "      <th></th>\n",
       "      <th>albumin</th>\n",
       "      <th>creatinine</th>\n",
       "      <th>glucose</th>\n",
       "      <th>log_crp</th>\n",
       "      <th>lymphocyte_percent</th>\n",
       "      <th>mean_cell_volume</th>\n",
       "      <th>red_cell_distribution_width</th>\n",
       "      <th>alkaline_phosphatase</th>\n",
       "      <th>white_blood_cell_count</th>\n",
       "      <th>age</th>\n",
       "    </tr>\n",
       "  </thead>\n",
       "  <tbody>\n",
       "    <tr>\n",
       "      <th>patient1</th>\n",
       "      <td>51.8</td>\n",
       "      <td>87.2</td>\n",
       "      <td>4.5</td>\n",
       "      <td>-0.2</td>\n",
       "      <td>27.9</td>\n",
       "      <td>92.4</td>\n",
       "      <td>13.9</td>\n",
       "      <td>123.5</td>\n",
       "      <td>6.0371</td>\n",
       "      <td>70.2</td>\n",
       "    </tr>\n",
       "    <tr>\n",
       "      <th>patient2</th>\n",
       "      <td>53.1</td>\n",
       "      <td>57.3</td>\n",
       "      <td>6.1</td>\n",
       "      <td>-0.2</td>\n",
       "      <td>27.8</td>\n",
       "      <td>80.9</td>\n",
       "      <td>12.0</td>\n",
       "      <td>81.5</td>\n",
       "      <td>4.1347</td>\n",
       "      <td>76.5</td>\n",
       "    </tr>\n",
       "    <tr>\n",
       "      <th>patient3</th>\n",
       "      <td>37.4</td>\n",
       "      <td>114.7</td>\n",
       "      <td>5.6</td>\n",
       "      <td>-0.2</td>\n",
       "      <td>23.6</td>\n",
       "      <td>83.2</td>\n",
       "      <td>12.4</td>\n",
       "      <td>124.4</td>\n",
       "      <td>7.3820</td>\n",
       "      <td>66.4</td>\n",
       "    </tr>\n",
       "    <tr>\n",
       "      <th>patient4</th>\n",
       "      <td>45.9</td>\n",
       "      <td>88.1</td>\n",
       "      <td>5.4</td>\n",
       "      <td>-0.2</td>\n",
       "      <td>38.6</td>\n",
       "      <td>92.5</td>\n",
       "      <td>11.4</td>\n",
       "      <td>113.4</td>\n",
       "      <td>6.5368</td>\n",
       "      <td>46.5</td>\n",
       "    </tr>\n",
       "    <tr>\n",
       "      <th>patient5</th>\n",
       "      <td>40.7</td>\n",
       "      <td>45.4</td>\n",
       "      <td>4.7</td>\n",
       "      <td>-0.2</td>\n",
       "      <td>38.3</td>\n",
       "      <td>88.8</td>\n",
       "      <td>13.5</td>\n",
       "      <td>107.8</td>\n",
       "      <td>4.6948</td>\n",
       "      <td>42.3</td>\n",
       "    </tr>\n",
       "  </tbody>\n",
       "</table>\n",
       "</div>"
      ],
      "text/plain": [
       "          albumin  creatinine  glucose  log_crp  lymphocyte_percent  \\\n",
       "patient1     51.8        87.2      4.5     -0.2                27.9   \n",
       "patient2     53.1        57.3      6.1     -0.2                27.8   \n",
       "patient3     37.4       114.7      5.6     -0.2                23.6   \n",
       "patient4     45.9        88.1      5.4     -0.2                38.6   \n",
       "patient5     40.7        45.4      4.7     -0.2                38.3   \n",
       "\n",
       "          mean_cell_volume  red_cell_distribution_width  alkaline_phosphatase  \\\n",
       "patient1              92.4                         13.9                 123.5   \n",
       "patient2              80.9                         12.0                  81.5   \n",
       "patient3              83.2                         12.4                 124.4   \n",
       "patient4              92.5                         11.4                 113.4   \n",
       "patient5              88.8                         13.5                 107.8   \n",
       "\n",
       "          white_blood_cell_count   age  \n",
       "patient1                  6.0371  70.2  \n",
       "patient2                  4.1347  76.5  \n",
       "patient3                  7.3820  66.4  \n",
       "patient4                  6.5368  46.5  \n",
       "patient5                  4.6948  42.3  "
      ]
     },
     "execution_count": 17,
     "metadata": {},
     "output_type": "execute_result"
    }
   ],
   "source": [
    "df.head()"
   ]
  },
  {
   "cell_type": "code",
   "execution_count": 18,
   "id": "1d41dda3",
   "metadata": {},
   "outputs": [
    {
     "data": {
      "text/plain": [
       "(30, 10)"
      ]
     },
     "execution_count": 18,
     "metadata": {},
     "output_type": "execute_result"
    }
   ],
   "source": [
    "df.shape"
   ]
  },
  {
   "cell_type": "markdown",
   "id": "45cbc6e1-9cf7-46a8-ac92-18924a7a5cf8",
   "metadata": {},
   "source": [
    "## Convert data to AnnData object"
   ]
  },
  {
   "cell_type": "markdown",
   "id": "ae486006-b533-411b-b449-ff6d2261345a",
   "metadata": {},
   "source": [
    "AnnData objects are highly flexible and are thus our preferred method of organizing data for age prediction."
   ]
  },
  {
   "cell_type": "code",
   "execution_count": 19,
   "id": "acf93ebe-0440-4b1f-9040-05260df459f9",
   "metadata": {},
   "outputs": [
    {
     "name": "stdout",
     "output_type": "stream",
     "text": [
      "|-----> 🏗️ Starting df_to_adata function\n",
      "|-----> ⚙️ Create anndata object started\n",
      "|-----> ✅ Create anndata object finished [0.0066s]\n",
      "|-----> ⚙️ Add metadata to anndata started\n",
      "|-----------? No metadata provided. Leaving adata.obs empty\n",
      "|-----> ⚠️ Add metadata to anndata finished [0.0013s]\n",
      "|-----> ⚙️ Log data statistics started\n",
      "|-----------> There are 30 observations\n",
      "|-----------> There are 10 features\n",
      "|-----------> Total missing values: 0\n",
      "|-----------> Percentage of missing values: 0.00%\n",
      "|-----> ✅ Log data statistics finished [0.0041s]\n",
      "|-----> ⚙️ Impute missing values started\n",
      "|-----------> No missing values found. No imputation necessary\n",
      "|-----> ✅ Impute missing values finished [0.0042s]\n",
      "|-----> 🎉 Done! [0.0246s]\n"
     ]
    }
   ],
   "source": [
    "adata = pya.preprocess.df_to_adata(df)"
   ]
  },
  {
   "cell_type": "markdown",
   "id": "54dcb802-6dd7-40cc-ab61-073f70778754",
   "metadata": {},
   "source": [
    "Note that the original DataFrame is stored in `X_original` under layers. is This is what the `adata` object looks like:"
   ]
  },
  {
   "cell_type": "code",
   "execution_count": 20,
   "id": "3cfcf1f4-01d8-4da2-81e9-fee50e051ffe",
   "metadata": {},
   "outputs": [
    {
     "data": {
      "text/plain": [
       "AnnData object with n_obs × n_vars = 30 × 10\n",
       "    var: 'percent_na'\n",
       "    layers: 'X_original'"
      ]
     },
     "execution_count": 20,
     "metadata": {},
     "output_type": "execute_result"
    }
   ],
   "source": [
    "adata"
   ]
  },
  {
   "cell_type": "markdown",
   "id": "2277ede6-ab9e-487b-a58d-c01cb21b6b68",
   "metadata": {},
   "source": [
    "## Predict age"
   ]
  },
  {
   "cell_type": "markdown",
   "id": "889d2d5f-a596-41d0-b849-560b6bc856a1",
   "metadata": {},
   "source": [
    "We can either predict one clock at once or all at the same time. Given we only have one clock of interest for this tutorial, let's go with one. The function is invariant to the capitalization of the clock name. "
   ]
  },
  {
   "cell_type": "code",
   "execution_count": 21,
   "id": "2dbc7beb-79b8-4e99-b36f-36bcd693c864",
   "metadata": {},
   "outputs": [
    {
     "name": "stdout",
     "output_type": "stream",
     "text": [
      "|-----> 🏗️ Starting predict_age function\n",
      "|-----> ⚙️ Set PyTorch device started\n",
      "|-----------> Using device: cpu\n",
      "|-----> ✅ Set PyTorch device finished [0.0023s]\n",
      "|-----> 🕒 Processing clock: horvath2013\n",
      "|-----------> ⚙️ Load clock started\n",
      "|-----------------> Data found in pyaging_data/horvath2013.pt\n",
      "Layer: base_model.linear.weight | Size: torch.Size([1, 353]) | Values : tensor([[ 1.2934e-01,  5.0179e-03,  1.5998e+00,  5.6852e-02,  1.0286e-01,\n",
      "          2.3856e-01,  8.8628e-02,  1.5995e-01,  4.2806e-02, -6.0406e-01,\n",
      "          1.1692e+00,  6.1276e-03,  4.4757e-02, -8.6513e-02,  1.2693e-01,\n",
      "          6.2771e-02, -2.4270e-02,  4.2597e-01,  1.8754e+00,  7.3741e-02,\n",
      "          3.4927e-01,  1.4058e-01,  5.0646e-02,  4.7395e-01,  2.3536e-02,\n",
      "         -5.5104e-01,  1.3545e-02, -2.0765e-01, -8.5884e-01,  1.4946e-02,\n",
      "          1.0341e+00,  7.9375e-02,  7.7180e-01,  4.4006e-01,  8.7296e-02,\n",
      "          1.1852e-01,  5.2940e-02,  3.4636e-01,  6.0215e-02,  1.8065e-02,\n",
      "          8.1030e-02,  2.7025e-02,  5.9721e-01,  4.3316e-01,  1.5759e-02,\n",
      "          1.8580e+00, -1.4133e-01, -1.5167e-01,  3.7489e-01,  9.1761e-02,\n",
      "          1.5032e+00,  1.9224e-01,  4.1640e-02,  8.8227e-02,  5.6323e-03,\n",
      "          5.1178e-02,  1.2830e-02, -3.4146e-01,  8.4849e-03,  6.8635e-02,\n",
      "          8.1291e-01,  1.4051e-01, -2.1177e-01,  1.0339e-01, -2.2013e-01,\n",
      "         -1.2172e-01,  3.0781e-01, -2.7839e-01,  2.7503e-02,  1.3745e-02,\n",
      "         -1.6561e-02,  6.6317e-02,  9.5238e-02,  4.6842e-01, -1.1536e-01,\n",
      "          5.7139e-02, -3.8934e-01,  5.1465e-01, -3.9990e-01,  7.0000e-01,\n",
      "          7.9279e-02,  5.3330e-01, -1.8856e-01,  3.3973e-01,  1.3361e-01,\n",
      "          2.6138e-01, -1.3886e-01,  1.3848e-02,  4.1202e-01,  1.1010e-01,\n",
      "          2.9984e-02,  4.9613e-02,  3.3652e-02,  3.7872e-01,  8.6898e-02,\n",
      "          3.1420e-03,  2.5193e-01,  3.0675e+00, -6.6922e-02, -1.6860e-01,\n",
      "          9.0028e-04,  5.3377e-02,  3.5824e-02, -4.6876e-01, -1.1963e-01,\n",
      "          3.8290e-01,  4.3745e-02, -9.4866e-03,  3.6325e-02,  1.7495e-02,\n",
      "          2.5519e+00, -6.6440e-02,  1.6749e-01, -9.6068e-02, -1.9856e-03,\n",
      "          1.1557e-01,  1.3732e-01, -9.4843e-02,  1.5662e-01,  1.4683e-01,\n",
      "         -2.2993e-02,  6.6621e-02,  3.7915e-02,  1.2187e-01,  3.5637e-01,\n",
      "          5.5427e-01,  2.0189e-01,  3.1501e-01,  5.9093e-01, -4.7038e-01,\n",
      "         -7.5459e-01,  1.9260e-02,  1.4964e-01,  1.2267e-01, -5.0279e-03,\n",
      "          2.1362e-02,  6.2850e-01, -2.8008e-02, -1.6436e-01, -3.8984e-01,\n",
      "          7.4478e-01,  1.1674e-01,  9.4276e-02,  1.4446e-01, -3.6020e-03,\n",
      "         -2.1687e-01, -3.8763e-01,  1.1968e-01,  1.9597e-01, -1.5021e-01,\n",
      "          2.0591e-01,  1.3588e-01,  2.7954e-02, -5.7605e-02, -4.7521e-02,\n",
      "          9.5569e-03,  8.3214e-03,  1.7185e+00,  1.6017e-01,  7.8585e-02,\n",
      "          1.1437e-01,  1.2838e-01,  6.0077e-01,  2.6650e-01,  1.8770e-01,\n",
      "          7.9221e-04,  3.7292e-01,  1.5285e-01, -1.5088e-03,  3.3964e-01,\n",
      "         -8.7007e-02, -2.7992e-01,  1.7997e-01,  1.5022e+00, -1.7603e-01,\n",
      "         -1.3920e+00,  3.0448e-01,  1.9975e-02, -1.9277e-01,  2.8331e-01,\n",
      "         -2.9629e-01,  9.5965e-01,  1.2603e-01,  1.2705e-01, -4.0743e-02,\n",
      "          3.5816e-01,  2.5409e-01, -5.5769e-02,  8.7287e-02, -2.1123e-01,\n",
      "          9.2441e-02, -2.6128e-01,  6.4597e-02, -2.0085e-03, -1.1195e-01,\n",
      "         -1.3620e-01,  2.6521e-04, -1.6767e-01, -4.0536e-02, -3.3581e-02,\n",
      "         -3.7917e-01, -3.4595e-01, -2.5753e-02, -6.8611e-01, -3.6911e-02,\n",
      "         -3.1258e-02, -2.7112e-01, -6.5840e-01, -4.8429e-02, -3.3750e-01,\n",
      "         -1.7129e-01, -4.5978e-01, -8.5478e-01, -6.4471e-02, -3.2631e-02,\n",
      "         -1.1268e-01, -2.6894e-02, -3.0156e-01, -1.4476e-01, -2.0120e-01,\n",
      "          5.4921e-02, -4.1669e-01, -5.9925e-02, -1.4784e-03, -4.4404e-01,\n",
      "         -1.7569e-03, -5.7821e-01, -3.1154e-02, -5.8704e-02, -1.5865e-01,\n",
      "         -1.4287e-01, -7.1139e-03,  1.3055e-01, -1.6308e-02, -2.3802e-01,\n",
      "          1.0102e-03, -6.2633e-01, -5.2073e-01, -2.1878e-01, -5.9490e-02,\n",
      "         -7.4790e-02, -1.1779e-02,  9.9404e-03, -1.1654e-01, -7.0505e-02,\n",
      "         -4.2705e-01, -1.9654e-01, -6.8308e-01, -4.1741e-04, -1.4730e-01,\n",
      "         -3.4647e-01, -3.9132e-01, -4.6803e-02, -1.4675e-02,  6.9971e-02,\n",
      "         -6.9158e-02,  9.3136e-02, -1.2053e-02, -1.5790e-01, -7.6159e-02,\n",
      "         -3.5059e-01, -1.7635e-01, -4.5644e-02, -2.9798e-03, -1.3107e-01,\n",
      "         -4.3130e-01, -2.0599e-01, -9.1239e-02, -3.5253e-03, -2.0151e-01,\n",
      "         -4.4897e-01, -1.2068e-01, -3.0357e-01, -1.1951e-01, -3.3671e-01,\n",
      "         -1.4037e-01, -5.0384e-02, -8.7121e-02, -3.0798e-02, -1.2218e-01,\n",
      "         -1.3603e-01, -2.4164e-01, -7.8483e-02, -7.3070e-01, -1.0817e-01,\n",
      "          6.4955e-03, -1.9686e-01, -1.2966e-02, -1.7192e+00,  2.8256e-01,\n",
      "         -3.4628e-01, -1.5380e-01, -5.9400e-06, -1.5719e-04, -5.6972e-01,\n",
      "         -6.4506e-01, -6.5958e-02, -5.7992e-02,  2.6455e-01, -8.9987e-02,\n",
      "         -3.7048e-01, -4.7858e-01, -5.5931e-02, -6.9774e-02,  9.8912e-02,\n",
      "         -2.8610e-01, -1.0354e-01, -4.5204e-01, -1.0455e-01, -8.8693e-01,\n",
      "         -2.4188e-01, -1.2025e-01, -5.2479e-02, -1.6640e-01, -4.5368e-02,\n",
      "         -5.4402e-02, -1.2387e-01, -2.5106e-03, -1.3389e-01,  1.2200e-01,\n",
      "         -2.1485e-01,  2.0951e-02, -1.3647e-03, -1.6136e-01, -3.8560e-01,\n",
      "          9.9992e-01, -1.1891e-01, -1.7319e-01, -3.5968e-01, -2.4341e-01,\n",
      "         -9.5024e-03, -5.7512e-02, -1.2994e-01, -3.0742e-01, -5.7745e-02,\n",
      "          2.2445e-01, -2.3151e-03, -2.8136e-02, -4.4616e-03, -1.2029e-01,\n",
      "         -2.1663e-01, -3.0299e-02, -3.6182e-01, -4.3863e-02, -1.6627e-01,\n",
      "         -1.5936e-01, -5.0652e-01, -1.4482e-01,  5.4903e-01, -4.6653e-01,\n",
      "         -3.5326e-02, -1.3864e-01, -8.6912e-01]], dtype=torch.float64,\n",
      "       grad_fn=<SliceBackward0>) \n",
      "\n",
      "Layer: base_model.linear.bias | Size: torch.Size([1]) | Values : tensor([0.6955], dtype=torch.float64, grad_fn=<SliceBackward0>) \n",
      "\n",
      "|-----------> ✅ Load clock finished [0.0136s]\n",
      "|-----------> ⚙️ Check features in adata started\n",
      "|----------------- 🛑 Every single feature out of 353 features is missing. Please double check the features in the adata object actually contain the clock features such as ['cg00075967', 'cg00374717', 'cg00864867'], etc.\n"
     ]
    },
    {
     "ename": "NameError",
     "evalue": "",
     "output_type": "error",
     "traceback": [
      "\u001b[0;31m---------------------------------------------------------------------------\u001b[0m",
      "\u001b[0;31mNameError\u001b[0m                                 Traceback (most recent call last)",
      "Cell \u001b[0;32mIn[21], line 1\u001b[0m\n\u001b[0;32m----> 1\u001b[0m \u001b[43mpya\u001b[49m\u001b[38;5;241;43m.\u001b[39;49m\u001b[43mpred\u001b[49m\u001b[38;5;241;43m.\u001b[39;49m\u001b[43mpredict_age\u001b[49m\u001b[43m(\u001b[49m\u001b[43madata\u001b[49m\u001b[43m,\u001b[49m\u001b[43m \u001b[49m\u001b[38;5;124;43m'\u001b[39;49m\u001b[38;5;124;43mPhenoAge\u001b[39;49m\u001b[38;5;124;43m'\u001b[39;49m\u001b[43m)\u001b[49m\n",
      "File \u001b[0;32m~/projects/fhe-aging/pyaging/pyaging/predict/_pred.py:100\u001b[0m, in \u001b[0;36mpredict_age\u001b[0;34m(adata, inference, clock_names, dir, batch_size, clean, verbose)\u001b[0m\n\u001b[1;32m     94\u001b[0m     logger\u001b[38;5;241m.\u001b[39mwarning(\n\u001b[1;32m     95\u001b[0m         \u001b[38;5;124mf\u001b[39m\u001b[38;5;124m\"\u001b[39m\u001b[38;5;124m⚠️ Clock \u001b[39m\u001b[38;5;124m'\u001b[39m\u001b[38;5;132;01m{\u001b[39;00mclock_name\u001b[38;5;132;01m}\u001b[39;00m\u001b[38;5;124m'\u001b[39m\u001b[38;5;124m is for research purposes only. Please check the clock\u001b[39m\u001b[38;5;124m'\u001b[39m\u001b[38;5;124ms documentation or notes for more information.\u001b[39m\u001b[38;5;124m\"\u001b[39m,\n\u001b[1;32m     96\u001b[0m         indent_level\u001b[38;5;241m=\u001b[39m\u001b[38;5;241m2\u001b[39m,\n\u001b[1;32m     97\u001b[0m     )\n\u001b[1;32m     99\u001b[0m \u001b[38;5;66;03m# Check and update adata for missing features\u001b[39;00m\n\u001b[0;32m--> 100\u001b[0m \u001b[43mcheck_features_in_adata\u001b[49m\u001b[43m(\u001b[49m\n\u001b[1;32m    101\u001b[0m \u001b[43m    \u001b[49m\u001b[43madata\u001b[49m\u001b[43m,\u001b[49m\n\u001b[1;32m    102\u001b[0m \u001b[43m    \u001b[49m\u001b[43mmodel\u001b[49m\u001b[43m,\u001b[49m\n\u001b[1;32m    103\u001b[0m \u001b[43m    \u001b[49m\u001b[43mlogger\u001b[49m\u001b[43m,\u001b[49m\n\u001b[1;32m    104\u001b[0m \u001b[43m    \u001b[49m\u001b[43mindent_level\u001b[49m\u001b[38;5;241;43m=\u001b[39;49m\u001b[38;5;241;43m2\u001b[39;49m\u001b[43m,\u001b[49m\n\u001b[1;32m    105\u001b[0m \u001b[43m\u001b[49m\u001b[43m)\u001b[49m\n\u001b[1;32m    107\u001b[0m \u001b[38;5;66;03m# Perform age prediction using the model applying preprocessing and postprocessing steps\u001b[39;00m\n\u001b[1;32m    108\u001b[0m \u001b[38;5;66;03m# predicted_ages_tensor = predict_ages_with_model(adata, model, device, batch_size, logger, indent_level=2)\u001b[39;00m\n\u001b[1;32m    109\u001b[0m predicted_ages_tensor \u001b[38;5;241m=\u001b[39m inference(adata, model, device, batch_size, logger, indent_level\u001b[38;5;241m=\u001b[39m\u001b[38;5;241m2\u001b[39m)\n",
      "File \u001b[0;32m~/projects/fhe-aging/pyaging/pyaging/utils/_utils.py:66\u001b[0m, in \u001b[0;36mprogress.<locals>.decorator.<locals>.wrapper\u001b[0;34m(*args, **kwargs)\u001b[0m\n\u001b[1;32m     64\u001b[0m logger \u001b[38;5;241m=\u001b[39m args[\u001b[38;5;241m-\u001b[39m\u001b[38;5;241m1\u001b[39m]  \u001b[38;5;66;03m# Assumes logger is the last positional argument\u001b[39;00m\n\u001b[1;32m     65\u001b[0m logger\u001b[38;5;241m.\u001b[39mstart_progress(\u001b[38;5;124mf\u001b[39m\u001b[38;5;124m\"\u001b[39m\u001b[38;5;132;01m{\u001b[39;00mmessage\u001b[38;5;132;01m}\u001b[39;00m\u001b[38;5;124m started\u001b[39m\u001b[38;5;124m\"\u001b[39m, indent_level\u001b[38;5;241m=\u001b[39mindent_level)\n\u001b[0;32m---> 66\u001b[0m result \u001b[38;5;241m=\u001b[39m \u001b[43mfunc\u001b[49m\u001b[43m(\u001b[49m\u001b[38;5;241;43m*\u001b[39;49m\u001b[43margs\u001b[49m\u001b[43m,\u001b[49m\u001b[43m \u001b[49m\u001b[38;5;241;43m*\u001b[39;49m\u001b[38;5;241;43m*\u001b[39;49m\u001b[43mkwargs\u001b[49m\u001b[43m)\u001b[49m\n\u001b[1;32m     67\u001b[0m logger\u001b[38;5;241m.\u001b[39mfinish_progress(\u001b[38;5;124mf\u001b[39m\u001b[38;5;124m\"\u001b[39m\u001b[38;5;132;01m{\u001b[39;00mmessage\u001b[38;5;132;01m}\u001b[39;00m\u001b[38;5;124m finished\u001b[39m\u001b[38;5;124m\"\u001b[39m, indent_level\u001b[38;5;241m=\u001b[39mindent_level)\n\u001b[1;32m     68\u001b[0m \u001b[38;5;28;01mreturn\u001b[39;00m result\n",
      "File \u001b[0;32m~/projects/fhe-aging/pyaging/pyaging/predict/_pred_utils.py:205\u001b[0m, in \u001b[0;36mcheck_features_in_adata\u001b[0;34m(adata, model, logger, indent_level)\u001b[0m\n\u001b[1;32m    198\u001b[0m \u001b[38;5;28;01mif\u001b[39;00m percent_missing \u001b[38;5;241m==\u001b[39m \u001b[38;5;241m100\u001b[39m:\n\u001b[1;32m    199\u001b[0m     logger\u001b[38;5;241m.\u001b[39merror(\n\u001b[1;32m    200\u001b[0m         \u001b[38;5;124mf\u001b[39m\u001b[38;5;124m\"\u001b[39m\u001b[38;5;124mEvery single feature out of \u001b[39m\u001b[38;5;132;01m{\u001b[39;00m\u001b[38;5;28mlen\u001b[39m(model\u001b[38;5;241m.\u001b[39mfeatures)\u001b[38;5;132;01m}\u001b[39;00m\u001b[38;5;124m features \u001b[39m\u001b[38;5;124m\"\u001b[39m\n\u001b[1;32m    201\u001b[0m         \u001b[38;5;124mf\u001b[39m\u001b[38;5;124m\"\u001b[39m\u001b[38;5;124mis missing. Please double check the features in the adata object\u001b[39m\u001b[38;5;124m\"\u001b[39m\n\u001b[1;32m    202\u001b[0m         \u001b[38;5;124mf\u001b[39m\u001b[38;5;124m\"\u001b[39m\u001b[38;5;124m actually contain the clock features such as \u001b[39m\u001b[38;5;132;01m{\u001b[39;00mmissing_features[:np\u001b[38;5;241m.\u001b[39mmin([\u001b[38;5;241m3\u001b[39m,\u001b[38;5;250m \u001b[39mnum_missing_features])]\u001b[38;5;132;01m}\u001b[39;00m\u001b[38;5;124m, etc.\u001b[39m\u001b[38;5;124m\"\u001b[39m,\n\u001b[1;32m    203\u001b[0m         indent_level\u001b[38;5;241m=\u001b[39m\u001b[38;5;241m3\u001b[39m,\n\u001b[1;32m    204\u001b[0m     )\n\u001b[0;32m--> 205\u001b[0m     \u001b[38;5;28;01mraise\u001b[39;00m \u001b[38;5;167;01mNameError\u001b[39;00m\n\u001b[1;32m    207\u001b[0m \u001b[38;5;66;03m# Log and add missing features if any\u001b[39;00m\n\u001b[1;32m    208\u001b[0m \u001b[38;5;28;01mif\u001b[39;00m \u001b[38;5;28mlen\u001b[39m(missing_features) \u001b[38;5;241m>\u001b[39m \u001b[38;5;241m0\u001b[39m:\n",
      "\u001b[0;31mNameError\u001b[0m: "
     ]
    }
   ],
   "source": [
    "pya.pred.predict_age(adata, 'PhenoAge')"
   ]
  },
  {
   "cell_type": "code",
   "execution_count": 9,
   "id": "032382f5-7d98-465e-a3cb-51165eeb7025",
   "metadata": {},
   "outputs": [
    {
     "data": {
      "text/html": [
       "<div>\n",
       "<style scoped>\n",
       "    .dataframe tbody tr th:only-of-type {\n",
       "        vertical-align: middle;\n",
       "    }\n",
       "\n",
       "    .dataframe tbody tr th {\n",
       "        vertical-align: top;\n",
       "    }\n",
       "\n",
       "    .dataframe thead th {\n",
       "        text-align: right;\n",
       "    }\n",
       "</style>\n",
       "<table border=\"1\" class=\"dataframe\">\n",
       "  <thead>\n",
       "    <tr style=\"text-align: right;\">\n",
       "      <th></th>\n",
       "      <th>phenoage</th>\n",
       "    </tr>\n",
       "  </thead>\n",
       "  <tbody>\n",
       "    <tr>\n",
       "      <th>patient1</th>\n",
       "      <td>74.348798</td>\n",
       "    </tr>\n",
       "    <tr>\n",
       "      <th>patient2</th>\n",
       "      <td>67.372000</td>\n",
       "    </tr>\n",
       "    <tr>\n",
       "      <th>patient3</th>\n",
       "      <td>74.789739</td>\n",
       "    </tr>\n",
       "    <tr>\n",
       "      <th>patient4</th>\n",
       "      <td>46.991769</td>\n",
       "    </tr>\n",
       "    <tr>\n",
       "      <th>patient5</th>\n",
       "      <td>44.559486</td>\n",
       "    </tr>\n",
       "  </tbody>\n",
       "</table>\n",
       "</div>"
      ],
      "text/plain": [
       "           phenoage\n",
       "patient1  74.348798\n",
       "patient2  67.372000\n",
       "patient3  74.789739\n",
       "patient4  46.991769\n",
       "patient5  44.559486"
      ]
     },
     "execution_count": 9,
     "metadata": {},
     "output_type": "execute_result"
    }
   ],
   "source": [
    "adata.obs.head()"
   ]
  },
  {
   "cell_type": "markdown",
   "id": "2acc80b1-f936-40e4-900a-ef4deb304558",
   "metadata": {},
   "source": [
    "Having so much information printed can be overwhelming, particularly when running several clocks at once. In such cases, just set verbose to False."
   ]
  },
  {
   "cell_type": "code",
   "execution_count": 10,
   "id": "a587f129-a88b-46ec-a249-ac62737a0cb7",
   "metadata": {},
   "outputs": [],
   "source": [
    "pya.data.download_example_data('blood_chemistry_example', verbose=False)\n",
    "df = pd.read_pickle('pyaging_data/blood_chemistry_example.pkl')\n",
    "adata = pya.preprocess.df_to_adata(df, verbose=False)\n",
    "pya.pred.predict_age(adata, ['PhenoAge'], verbose=False)"
   ]
  },
  {
   "cell_type": "code",
   "execution_count": 11,
   "id": "99fbe406-d076-4979-a2f4-70469755937f",
   "metadata": {},
   "outputs": [
    {
     "data": {
      "text/html": [
       "<div>\n",
       "<style scoped>\n",
       "    .dataframe tbody tr th:only-of-type {\n",
       "        vertical-align: middle;\n",
       "    }\n",
       "\n",
       "    .dataframe tbody tr th {\n",
       "        vertical-align: top;\n",
       "    }\n",
       "\n",
       "    .dataframe thead th {\n",
       "        text-align: right;\n",
       "    }\n",
       "</style>\n",
       "<table border=\"1\" class=\"dataframe\">\n",
       "  <thead>\n",
       "    <tr style=\"text-align: right;\">\n",
       "      <th></th>\n",
       "      <th>phenoage</th>\n",
       "    </tr>\n",
       "  </thead>\n",
       "  <tbody>\n",
       "    <tr>\n",
       "      <th>patient1</th>\n",
       "      <td>74.348798</td>\n",
       "    </tr>\n",
       "    <tr>\n",
       "      <th>patient2</th>\n",
       "      <td>67.372000</td>\n",
       "    </tr>\n",
       "    <tr>\n",
       "      <th>patient3</th>\n",
       "      <td>74.789739</td>\n",
       "    </tr>\n",
       "    <tr>\n",
       "      <th>patient4</th>\n",
       "      <td>46.991769</td>\n",
       "    </tr>\n",
       "    <tr>\n",
       "      <th>patient5</th>\n",
       "      <td>44.559486</td>\n",
       "    </tr>\n",
       "  </tbody>\n",
       "</table>\n",
       "</div>"
      ],
      "text/plain": [
       "           phenoage\n",
       "patient1  74.348798\n",
       "patient2  67.372000\n",
       "patient3  74.789739\n",
       "patient4  46.991769\n",
       "patient5  44.559486"
      ]
     },
     "execution_count": 11,
     "metadata": {},
     "output_type": "execute_result"
    }
   ],
   "source": [
    "adata.obs.head()"
   ]
  },
  {
   "cell_type": "code",
   "execution_count": 12,
   "id": "ccf2556d",
   "metadata": {},
   "outputs": [
    {
     "data": {
      "text/plain": [
       "patient1     74.348798\n",
       "patient2     67.372000\n",
       "patient3     74.789739\n",
       "patient4     46.991769\n",
       "patient5     44.559486\n",
       "patient6     72.509460\n",
       "patient7     57.377050\n",
       "patient8     31.779798\n",
       "patient9     50.356509\n",
       "patient10    67.696706\n",
       "patient11    62.601978\n",
       "patient12    41.735924\n",
       "patient13    82.238745\n",
       "patient14    56.677500\n",
       "patient15    46.402083\n",
       "patient16    63.710847\n",
       "patient17    84.784175\n",
       "patient18    87.164951\n",
       "patient19    90.205428\n",
       "patient20    62.235136\n",
       "patient21    25.272845\n",
       "patient22    55.211519\n",
       "patient23    69.707914\n",
       "patient24    49.180186\n",
       "patient25    45.259951\n",
       "patient26    35.333908\n",
       "patient27    81.873746\n",
       "patient28    64.559367\n",
       "patient29    79.227049\n",
       "patient30    58.783946\n",
       "Name: phenoage, dtype: float64"
      ]
     },
     "execution_count": 12,
     "metadata": {},
     "output_type": "execute_result"
    }
   ],
   "source": [
    "adata.obs[\"phenoage\"]"
   ]
  },
  {
   "cell_type": "code",
   "execution_count": 13,
   "id": "d18d1e40",
   "metadata": {},
   "outputs": [
    {
     "data": {
      "text/plain": [
       "patient1     70.2\n",
       "patient2     76.5\n",
       "patient3     66.4\n",
       "patient4     46.5\n",
       "patient5     42.3\n",
       "patient6     76.9\n",
       "patient7     55.1\n",
       "patient8     34.6\n",
       "patient9     47.3\n",
       "patient10    52.3\n",
       "patient11    47.2\n",
       "patient12    45.2\n",
       "patient13    62.9\n",
       "patient14    40.7\n",
       "patient15    18.6\n",
       "patient16    52.4\n",
       "patient17    77.4\n",
       "patient18    77.5\n",
       "patient19    74.9\n",
       "patient20    54.0\n",
       "patient21    18.7\n",
       "patient22    62.6\n",
       "patient23    51.8\n",
       "patient24    41.1\n",
       "patient25    36.9\n",
       "patient26    28.0\n",
       "patient27    76.5\n",
       "patient28    51.1\n",
       "patient29    75.9\n",
       "patient30    45.0\n",
       "Name: age, dtype: float64"
      ]
     },
     "execution_count": 13,
     "metadata": {},
     "output_type": "execute_result"
    }
   ],
   "source": [
    "df[\"age\"]"
   ]
  },
  {
   "cell_type": "markdown",
   "id": "72f0eb22-76f2-41b5-b20f-824548215122",
   "metadata": {},
   "source": [
    "After age prediction, the clocks are added to `adata.obs`. Moreover, the percent of missing values for each clock and other metadata are included in `adata.uns`."
   ]
  },
  {
   "cell_type": "code",
   "execution_count": 14,
   "id": "3cd09c62",
   "metadata": {},
   "outputs": [
    {
     "name": "stdout",
     "output_type": "stream",
     "text": [
      "Median Absolute Error: 8.16 years\n",
      "Mean Absolute Error: 9.26 years\n",
      "Median Error: 7.73 years\n",
      "Mean Error: 7.45 years\n",
      "Correlation: 0.882\n"
     ]
    }
   ],
   "source": [
    "import numpy as np\n",
    "from sklearn.metrics import mean_absolute_error, median_absolute_error\n",
    "\n",
    "# Assuming adata.obs[\"phenoage\"] and df[\"age\"] are aligned\n",
    "pred = adata.obs[\"phenoage\"]\n",
    "gt = df[\"age\"]\n",
    "\n",
    "# Median Absolute Error\n",
    "med_abs_error = median_absolute_error(gt, pred)\n",
    "\n",
    "# Mean Absolute Error \n",
    "mae = mean_absolute_error(gt, pred)\n",
    "\n",
    "# Median Error (can be positive/negative)\n",
    "med_error = np.median(pred - gt)\n",
    "\n",
    "# Mean Error (can be positive/negative)\n",
    "mean_error = np.mean(pred - gt)\n",
    "\n",
    "# Correlation\n",
    "correlation = np.corrcoef(pred, gt)[0,1]\n",
    "\n",
    "print(f\"Median Absolute Error: {med_abs_error:.2f} years\")\n",
    "print(f\"Mean Absolute Error: {mae:.2f} years\")\n",
    "print(f\"Median Error: {med_error:.2f} years\")\n",
    "print(f\"Mean Error: {mean_error:.2f} years\")\n",
    "print(f\"Correlation: {correlation:.3f}\")"
   ]
  },
  {
   "cell_type": "code",
   "execution_count": 15,
   "id": "a778028a-7ee6-419c-9be6-e7046a9d8f9a",
   "metadata": {},
   "outputs": [
    {
     "data": {
      "text/plain": [
       "AnnData object with n_obs × n_vars = 30 × 10\n",
       "    obs: 'phenoage'\n",
       "    var: 'percent_na'\n",
       "    uns: 'phenoage_percent_na', 'phenoage_missing_features', 'phenoage_metadata'\n",
       "    layers: 'X_original'"
      ]
     },
     "execution_count": 15,
     "metadata": {},
     "output_type": "execute_result"
    }
   ],
   "source": [
    "adata"
   ]
  },
  {
   "cell_type": "markdown",
   "id": "1a73e164-a610-4cb6-93f5-6f8ac7d8d56f",
   "metadata": {},
   "source": [
    "## Get citation"
   ]
  },
  {
   "cell_type": "markdown",
   "id": "6c7a070c-c448-4ad7-ae0b-21857dafd00e",
   "metadata": {},
   "source": [
    "The doi, citation, and some metadata are automatically added to the AnnData object under `adata.uns[CLOCKNAME_metadata]`."
   ]
  },
  {
   "cell_type": "code",
   "execution_count": 16,
   "id": "9908d25a-9639-4684-9da6-353c7eb4a555",
   "metadata": {},
   "outputs": [
    {
     "data": {
      "text/plain": [
       "{'clock_name': 'phenoage',\n",
       " 'data_type': 'blood chemistry',\n",
       " 'species': 'Homo sapiens',\n",
       " 'year': 2018,\n",
       " 'approved_by_author': '⌛',\n",
       " 'citation': 'Levine, Morgan E., et al. \"An epigenetic biomarker of aging for lifespan and healthspan.\" Aging (albany NY) 10.4 (2018): 573.',\n",
       " 'doi': 'https://doi.org/10.18632%2Faging.101414',\n",
       " 'notes': None,\n",
       " 'research_only': None,\n",
       " 'version': None}"
      ]
     },
     "execution_count": 16,
     "metadata": {},
     "output_type": "execute_result"
    }
   ],
   "source": [
    "adata.uns['phenoage_metadata']"
   ]
  }
 ],
 "metadata": {
  "kernelspec": {
   "display_name": "base",
   "language": "python",
   "name": "python3"
  },
  "language_info": {
   "codemirror_mode": {
    "name": "ipython",
    "version": 3
   },
   "file_extension": ".py",
   "mimetype": "text/x-python",
   "name": "python",
   "nbconvert_exporter": "python",
   "pygments_lexer": "ipython3",
   "version": "3.12.2"
  }
 },
 "nbformat": 4,
 "nbformat_minor": 5
}

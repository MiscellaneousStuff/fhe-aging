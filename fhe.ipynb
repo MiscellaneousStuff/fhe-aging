{
 "cells": [
  {
   "cell_type": "markdown",
   "metadata": {},
   "source": [
    "## Setup"
   ]
  },
  {
   "cell_type": "code",
   "execution_count": 8,
   "metadata": {},
   "outputs": [],
   "source": [
    "import pandas as pd \n",
    "import pyaging as pya"
   ]
  },
  {
   "cell_type": "code",
   "execution_count": 9,
   "metadata": {},
   "outputs": [
    {
     "name": "stdout",
     "output_type": "stream",
     "text": [
      "|-----> 🏗️ Starting download_example_data function\n",
      "|-----------> Data found in pyaging_data/blood_chemistry_example.pkl\n",
      "|-----> 🎉 Done! [0.0026s]\n"
     ]
    }
   ],
   "source": [
    "pya.data.download_example_data('blood_chemistry_example')"
   ]
  },
  {
   "cell_type": "code",
   "execution_count": 10,
   "metadata": {},
   "outputs": [],
   "source": [
    "df = pd.read_pickle('pyaging_data/blood_chemistry_example.pkl')"
   ]
  },
  {
   "cell_type": "code",
   "execution_count": 11,
   "metadata": {},
   "outputs": [
    {
     "name": "stdout",
     "output_type": "stream",
     "text": [
      "|-----> 🏗️ Starting df_to_adata function\n",
      "|-----> ⚙️ Create anndata object started\n",
      "|-----> ✅ Create anndata object finished [0.0058s]\n",
      "|-----> ⚙️ Add metadata to anndata started\n",
      "|-----------? No metadata provided. Leaving adata.obs empty\n",
      "|-----> ⚠️ Add metadata to anndata finished [0.0012s]\n",
      "|-----> ⚙️ Log data statistics started\n",
      "|-----------> There are 30 observations\n",
      "|-----------> There are 10 features\n",
      "|-----------> Total missing values: 0\n",
      "|-----------> Percentage of missing values: 0.00%\n",
      "|-----> ✅ Log data statistics finished [0.0021s]\n",
      "|-----> ⚙️ Impute missing values started\n",
      "|-----------> No missing values found. No imputation necessary\n",
      "|-----> ✅ Impute missing values finished [0.0023s]\n",
      "|-----> 🎉 Done! [0.0158s]\n"
     ]
    }
   ],
   "source": [
    "adata = pya.preprocess.df_to_adata(df)"
   ]
  },
  {
   "cell_type": "code",
   "execution_count": 12,
   "metadata": {},
   "outputs": [],
   "source": [
    "import marshal\n",
    "import math\n",
    "import ntpath\n",
    "import os\n",
    "import types\n",
    "from typing import Dict, List, Tuple\n",
    "from urllib.request import urlretrieve\n",
    "\n",
    "import anndata\n",
    "import numpy as np\n",
    "import pandas as pd\n",
    "import torch\n",
    "from anndata.experimental.pytorch import AnnLoader\n",
    "from torch.utils.data import DataLoader, TensorDataset\n",
    "\n",
    "from pyaging.logger import LoggerManager, main_tqdm, silence_logger\n",
    "from pyaging.models import *\n",
    "from pyaging.utils import download, load_clock_metadata, progress\n",
    "from pyaging.predict._postprocessing import *\n",
    "from pyaging.predict._preprocessing import *\n",
    "\n",
    "@progress(\"Predict ages with model\")\n",
    "def predict_ages_with_model(\n",
    "    adata: anndata.AnnData,\n",
    "    model: pyagingModel,\n",
    "    device: str,\n",
    "    batch_size: int,\n",
    "    logger,\n",
    "    indent_level: int = 2,\n",
    ") -> torch.Tensor:\n",
    "    \"\"\"\n",
    "    Predict biological ages using a trained model and input data.\n",
    "\n",
    "    This function takes a machine learning model and input data, and returns predictions made by the model.\n",
    "    It's primarily used for estimating biological ages based on various biological markers. The function\n",
    "    assumes that the model is already trained. A dataloader is used because of possible memory constraints\n",
    "    for large datasets.\n",
    "\n",
    "    Parameters\n",
    "    ----------\n",
    "    adata : anndata.AnnData\n",
    "        The AnnData object containing the dataset. Its `.X` attribute is expected to be a matrix where rows\n",
    "        correspond to samples and columns correspond to features.\n",
    "\n",
    "    model : pyagingModel\n",
    "        The pyagingModel of the aging clock of interest.\n",
    "\n",
    "    device : str\n",
    "        Device to move AnnData to during inference. Eithe 'cpu' or 'cuda'.\n",
    "\n",
    "    batch_size : int\n",
    "        Batch size for the AnnLoader object to predict age.\n",
    "\n",
    "    logger : Logger\n",
    "        A logger object for logging the progress or any relevant information during the prediction process.\n",
    "\n",
    "    indent_level : int, optional\n",
    "        The indentation level for logging messages, by default 2.\n",
    "\n",
    "    Returns\n",
    "    -------\n",
    "    predictions : torch.Tensor\n",
    "        An array of predicted ages or biological markers, as returned by the model.\n",
    "\n",
    "    Notes\n",
    "    -----\n",
    "    Ensure that the data is preprocessed (e.g., scaled, normalized) as required by the model before\n",
    "    passing it to this function. The model should be in evaluation mode if it's a type that has different\n",
    "    behavior during training and inference (e.g., PyTorch models).\n",
    "\n",
    "    The exact nature of the predictions (e.g., age, biological markers) depends on the model being used.\n",
    "\n",
    "    Examples\n",
    "    --------\n",
    "    >>> model = load_pretrained_model()\n",
    "    >>> predictions = predict_ages_with_model(model, \"cpu\", logger)\n",
    "    >>> print(predictions[:5])\n",
    "    [34.5, 29.3, 47.8, 50.1, 42.6]\n",
    "\n",
    "    \"\"\"\n",
    "\n",
    "    # If there is a preprocessing step\n",
    "    if model.preprocess_name is not None:\n",
    "        logger.info(\n",
    "            f\"The preprocessing method is {model.preprocess_name}\",\n",
    "            indent_level=indent_level + 1,\n",
    "        )\n",
    "    else:\n",
    "        logger.info(\"There is no preprocessing necessary\", indent_level=indent_level + 1)\n",
    "\n",
    "    # If there is a postprocessing step\n",
    "    if model.postprocess_name is not None:\n",
    "        logger.info(\n",
    "            f\"The postprocessing method is {model.postprocess_name}\",\n",
    "            indent_level=indent_level + 1,\n",
    "        )\n",
    "    else:\n",
    "        logger.info(\"There is no postprocessing necessary\", indent_level=indent_level + 1)\n",
    "\n",
    "    # Create an AnnLoader\n",
    "    use_cuda = torch.cuda.is_available()\n",
    "    dataloader = AnnLoader(adata, batch_size=batch_size, use_cuda=use_cuda)\n",
    "\n",
    "    # with torch.no_grad():\n",
    "    #     for param in model.parameters():\n",
    "    #         param.zero_()\n",
    "\n",
    "    # Use the AnnLoader for batched prediction\n",
    "    predictions = []\n",
    "    with torch.inference_mode():\n",
    "        for batch in main_tqdm(dataloader, indent_level=indent_level + 1, logger=logger):\n",
    "            batch_pred = model(batch.obsm[f\"X_{model.metadata['clock_name']}\"])\n",
    "            predictions.append(batch_pred)\n",
    "    # Concatenate all batch predictions\n",
    "    predictions = torch.cat(predictions)\n",
    "\n",
    "    return predictions"
   ]
  },
  {
   "cell_type": "code",
   "execution_count": 13,
   "metadata": {},
   "outputs": [
    {
     "name": "stdout",
     "output_type": "stream",
     "text": [
      "|-----> 🏗️ Starting predict_age function\n",
      "|-----> ⚙️ Set PyTorch device started\n",
      "|-----------> Using device: cpu\n",
      "|-----> ✅ Set PyTorch device finished [0.0020s]\n",
      "|-----> 🕒 Processing clock: phenoage\n",
      "|-----------> ⚙️ Load clock started\n",
      "|-----------------> Data found in pyaging_data/phenoage.pt\n",
      "Layer: base_model.linear.weight | Size: torch.Size([1, 10]) | Values : tensor([[-0.0336,  0.0095,  0.1953,  0.0954, -0.0120,  0.0268,  0.3306,  0.0019,\n",
      "          0.0554,  0.0804]], dtype=torch.float64, grad_fn=<SliceBackward0>) \n",
      "\n",
      "Layer: base_model.linear.bias | Size: torch.Size([1]) | Values : tensor([-19.9067], dtype=torch.float64, grad_fn=<SliceBackward0>) \n",
      "\n",
      "|-----------> ✅ Load clock finished [0.0066s]\n",
      "|-----------> ⚙️ Check features in adata started\n",
      "|-----------------> All features are present in adata.var_names.\n",
      "|-----------> ✅ Check features in adata finished [0.0014s]\n",
      "|-----------> ⚙️ Predict ages with model started\n",
      "|-----------------> There is no preprocessing necessary\n",
      "|-----------------> The postprocessing method is mortality_to_phenoage\n",
      "|-----------------> in progress: 100.0000%\n",
      "|-----------> ✅ Predict ages with model finished [0.0037s]\n",
      "|-----------> ⚙️ Add predicted ages and clock metadata to adata started\n",
      "|-----------> ✅ Add predicted ages and clock metadata to adata finished [0.0019s]\n",
      "|-----> 🎉 Done! [0.1304s]\n"
     ]
    }
   ],
   "source": [
    "pya.pred.predict_age(adata, predict_ages_with_model, 'PhenoAge')"
   ]
  },
  {
   "cell_type": "code",
   "execution_count": 14,
   "metadata": {},
   "outputs": [
    {
     "data": {
      "text/html": [
       "<div>\n",
       "<style scoped>\n",
       "    .dataframe tbody tr th:only-of-type {\n",
       "        vertical-align: middle;\n",
       "    }\n",
       "\n",
       "    .dataframe tbody tr th {\n",
       "        vertical-align: top;\n",
       "    }\n",
       "\n",
       "    .dataframe thead th {\n",
       "        text-align: right;\n",
       "    }\n",
       "</style>\n",
       "<table border=\"1\" class=\"dataframe\">\n",
       "  <thead>\n",
       "    <tr style=\"text-align: right;\">\n",
       "      <th></th>\n",
       "      <th>phenoage</th>\n",
       "    </tr>\n",
       "  </thead>\n",
       "  <tbody>\n",
       "    <tr>\n",
       "      <th>patient1</th>\n",
       "      <td>74.348798</td>\n",
       "    </tr>\n",
       "    <tr>\n",
       "      <th>patient2</th>\n",
       "      <td>67.372000</td>\n",
       "    </tr>\n",
       "    <tr>\n",
       "      <th>patient3</th>\n",
       "      <td>74.789739</td>\n",
       "    </tr>\n",
       "    <tr>\n",
       "      <th>patient4</th>\n",
       "      <td>46.991769</td>\n",
       "    </tr>\n",
       "    <tr>\n",
       "      <th>patient5</th>\n",
       "      <td>44.559486</td>\n",
       "    </tr>\n",
       "  </tbody>\n",
       "</table>\n",
       "</div>"
      ],
      "text/plain": [
       "           phenoage\n",
       "patient1  74.348798\n",
       "patient2  67.372000\n",
       "patient3  74.789739\n",
       "patient4  46.991769\n",
       "patient5  44.559486"
      ]
     },
     "execution_count": 14,
     "metadata": {},
     "output_type": "execute_result"
    }
   ],
   "source": [
    "adata.obs.head()"
   ]
  }
 ],
 "metadata": {
  "kernelspec": {
   "display_name": "base",
   "language": "python",
   "name": "python3"
  },
  "language_info": {
   "codemirror_mode": {
    "name": "ipython",
    "version": 3
   },
   "file_extension": ".py",
   "mimetype": "text/x-python",
   "name": "python",
   "nbconvert_exporter": "python",
   "pygments_lexer": "ipython3",
   "version": "3.12.2"
  }
 },
 "nbformat": 4,
 "nbformat_minor": 2
}

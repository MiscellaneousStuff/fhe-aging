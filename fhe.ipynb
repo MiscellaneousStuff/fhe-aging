{
 "cells": [
  {
   "cell_type": "markdown",
   "metadata": {},
   "source": [
    "# FHE Aging"
   ]
  },
  {
   "cell_type": "markdown",
   "metadata": {},
   "source": [
    "## Setup"
   ]
  },
  {
   "cell_type": "code",
   "execution_count": 1,
   "metadata": {},
   "outputs": [],
   "source": [
    "import pandas as pd \n",
    "import pyaging as pya"
   ]
  },
  {
   "cell_type": "code",
   "execution_count": 2,
   "metadata": {},
   "outputs": [
    {
     "name": "stdout",
     "output_type": "stream",
     "text": [
      "|-----> 🏗️ Starting download_example_data function\n",
      "|-----------> Data found in pyaging_data/blood_chemistry_example.pkl\n",
      "|-----> 🎉 Done! [0.0025s]\n"
     ]
    }
   ],
   "source": [
    "pya.data.download_example_data('blood_chemistry_example')"
   ]
  },
  {
   "cell_type": "code",
   "execution_count": 3,
   "metadata": {},
   "outputs": [],
   "source": [
    "df = pd.read_pickle('pyaging_data/blood_chemistry_example.pkl')"
   ]
  },
  {
   "cell_type": "code",
   "execution_count": 4,
   "metadata": {},
   "outputs": [
    {
     "name": "stdout",
     "output_type": "stream",
     "text": [
      "|-----> 🏗️ Starting df_to_adata function\n",
      "|-----> ⚙️ Create anndata object started\n",
      "|-----> ✅ Create anndata object finished [0.0039s]\n",
      "|-----> ⚙️ Add metadata to anndata started\n",
      "|-----------? No metadata provided. Leaving adata.obs empty\n",
      "|-----> ⚠️ Add metadata to anndata finished [0.0009s]\n",
      "|-----> ⚙️ Log data statistics started\n",
      "|-----------> There are 30 observations\n",
      "|-----------> There are 10 features\n",
      "|-----------> Total missing values: 0\n",
      "|-----------> Percentage of missing values: 0.00%\n",
      "|-----> ✅ Log data statistics finished [0.0028s]\n",
      "|-----> ⚙️ Impute missing values started\n",
      "|-----------> No missing values found. No imputation necessary\n",
      "|-----> ✅ Impute missing values finished [0.0046s]\n",
      "|-----> 🎉 Done! [0.0203s]\n"
     ]
    }
   ],
   "source": [
    "adata = pya.preprocess.df_to_adata(df)"
   ]
  },
  {
   "cell_type": "code",
   "execution_count": 5,
   "metadata": {},
   "outputs": [],
   "source": [
    "import marshal\n",
    "import math\n",
    "import ntpath\n",
    "import os\n",
    "import types\n",
    "from typing import Dict, List, Tuple\n",
    "from urllib.request import urlretrieve\n",
    "\n",
    "import anndata\n",
    "import numpy as np\n",
    "import pandas as pd\n",
    "import torch\n",
    "from anndata.experimental.pytorch import AnnLoader\n",
    "from torch.utils.data import DataLoader, TensorDataset\n",
    "\n",
    "from pyaging.logger import LoggerManager, main_tqdm, silence_logger\n",
    "from pyaging.models import *\n",
    "from pyaging.utils import download, load_clock_metadata, progress\n",
    "from pyaging.predict._postprocessing import *\n",
    "from pyaging.predict._preprocessing import *\n",
    "\n",
    "@progress(\"Predict ages with model\")\n",
    "def predict_ages_with_model(\n",
    "    adata: anndata.AnnData,\n",
    "    model: pyagingModel,\n",
    "    device: str,\n",
    "    batch_size: int,\n",
    "    logger,\n",
    "    indent_level: int = 2,\n",
    ") -> torch.Tensor:\n",
    "    \"\"\"\n",
    "    Predict biological ages using a trained model and input data.\n",
    "\n",
    "    This function takes a machine learning model and input data, and returns predictions made by the model.\n",
    "    It's primarily used for estimating biological ages based on various biological markers. The function\n",
    "    assumes that the model is already trained. A dataloader is used because of possible memory constraints\n",
    "    for large datasets.\n",
    "\n",
    "    Parameters\n",
    "    ----------\n",
    "    adata : anndata.AnnData\n",
    "        The AnnData object containing the dataset. Its `.X` attribute is expected to be a matrix where rows\n",
    "        correspond to samples and columns correspond to features.\n",
    "\n",
    "    model : pyagingModel\n",
    "        The pyagingModel of the aging clock of interest.\n",
    "\n",
    "    device : str\n",
    "        Device to move AnnData to during inference. Eithe 'cpu' or 'cuda'.\n",
    "\n",
    "    batch_size : int\n",
    "        Batch size for the AnnLoader object to predict age.\n",
    "\n",
    "    logger : Logger\n",
    "        A logger object for logging the progress or any relevant information during the prediction process.\n",
    "\n",
    "    indent_level : int, optional\n",
    "        The indentation level for logging messages, by default 2.\n",
    "\n",
    "    Returns\n",
    "    -------\n",
    "    predictions : torch.Tensor\n",
    "        An array of predicted ages or biological markers, as returned by the model.\n",
    "\n",
    "    Notes\n",
    "    -----\n",
    "    Ensure that the data is preprocessed (e.g., scaled, normalized) as required by the model before\n",
    "    passing it to this function. The model should be in evaluation mode if it's a type that has different\n",
    "    behavior during training and inference (e.g., PyTorch models).\n",
    "\n",
    "    The exact nature of the predictions (e.g., age, biological markers) depends on the model being used.\n",
    "\n",
    "    Examples\n",
    "    --------\n",
    "    >>> model = load_pretrained_model()\n",
    "    >>> predictions = predict_ages_with_model(model, \"cpu\", logger)\n",
    "    >>> print(predictions[:5])\n",
    "    [34.5, 29.3, 47.8, 50.1, 42.6]\n",
    "\n",
    "    \"\"\"\n",
    "\n",
    "    # If there is a preprocessing step\n",
    "    if model.preprocess_name is not None:\n",
    "        logger.info(\n",
    "            f\"The preprocessing method is {model.preprocess_name}\",\n",
    "            indent_level=indent_level + 1,\n",
    "        )\n",
    "    else:\n",
    "        logger.info(\"There is no preprocessing necessary\", indent_level=indent_level + 1)\n",
    "\n",
    "    # If there is a postprocessing step\n",
    "    if model.postprocess_name is not None:\n",
    "        logger.info(\n",
    "            f\"The postprocessing method is {model.postprocess_name}\",\n",
    "            indent_level=indent_level + 1,\n",
    "        )\n",
    "    else:\n",
    "        logger.info(\"There is no postprocessing necessary\", indent_level=indent_level + 1)\n",
    "\n",
    "    # Create an AnnLoader\n",
    "    use_cuda = torch.cuda.is_available()\n",
    "    dataloader = AnnLoader(adata, batch_size=batch_size, use_cuda=use_cuda)\n",
    "\n",
    "    # with torch.no_grad():\n",
    "    #     for param in model.parameters():\n",
    "    #         param.zero_()\n",
    "\n",
    "    # Use the AnnLoader for batched prediction\n",
    "    predictions = []\n",
    "    with torch.inference_mode():\n",
    "        for batch in main_tqdm(dataloader, indent_level=indent_level + 1, logger=logger):\n",
    "            batch_pred = model(batch.obsm[f\"X_{model.metadata['clock_name']}\"])\n",
    "            predictions.append(batch_pred)\n",
    "    # Concatenate all batch predictions\n",
    "    predictions = torch.cat(predictions)\n",
    "\n",
    "    return predictions"
   ]
  },
  {
   "cell_type": "code",
   "execution_count": 6,
   "metadata": {},
   "outputs": [
    {
     "name": "stdout",
     "output_type": "stream",
     "text": [
      "|-----> 🏗️ Starting predict_age function\n",
      "|-----> ⚙️ Set PyTorch device started\n",
      "|-----------> Using device: cpu\n",
      "|-----> ✅ Set PyTorch device finished [0.0019s]\n",
      "|-----> 🕒 Processing clock: phenoage\n",
      "|-----------> ⚙️ Load clock started\n",
      "|-----------------> Data found in pyaging_data/phenoage.pt\n",
      "Layer: base_model.linear.weight | Size: torch.Size([1, 10]) | Values : tensor([[-0.0336,  0.0095,  0.1953,  0.0954, -0.0120,  0.0268,  0.3306,  0.0019,\n",
      "          0.0554,  0.0804]], dtype=torch.float64, grad_fn=<SliceBackward0>) \n",
      "\n",
      "Layer: base_model.linear.bias | Size: torch.Size([1]) | Values : tensor([-19.9067], dtype=torch.float64, grad_fn=<SliceBackward0>) \n",
      "\n",
      "|-----------> ✅ Load clock finished [0.0453s]\n",
      "|-----------> ⚙️ Check features in adata started\n",
      "|-----------------> All features are present in adata.var_names.\n",
      "|-----------> ✅ Check features in adata finished [0.0037s]\n",
      "|-----------> ⚙️ Predict ages with model started\n",
      "|-----------------> There is no preprocessing necessary\n",
      "|-----------------> The postprocessing method is mortality_to_phenoage\n",
      "|-----------------> in progress: 100.0000%\n",
      "|-----------> ✅ Predict ages with model finished [0.0137s]\n",
      "|-----------> ⚙️ Add predicted ages and clock metadata to adata started\n",
      "|-----------> ✅ Add predicted ages and clock metadata to adata finished [0.0010s]\n",
      "|-----> 🎉 Done! [0.1634s]\n"
     ]
    }
   ],
   "source": [
    "pya.pred.predict_age_fhe(adata, predict_ages_with_model, 'PhenoAge')"
   ]
  },
  {
   "cell_type": "code",
   "execution_count": 7,
   "metadata": {},
   "outputs": [],
   "source": [
    "# pya.pred.predict_age(adata, predict_ages_with_model, 'PhenoAge')"
   ]
  },
  {
   "cell_type": "code",
   "execution_count": 8,
   "metadata": {},
   "outputs": [
    {
     "data": {
      "text/html": [
       "<div>\n",
       "<style scoped>\n",
       "    .dataframe tbody tr th:only-of-type {\n",
       "        vertical-align: middle;\n",
       "    }\n",
       "\n",
       "    .dataframe tbody tr th {\n",
       "        vertical-align: top;\n",
       "    }\n",
       "\n",
       "    .dataframe thead th {\n",
       "        text-align: right;\n",
       "    }\n",
       "</style>\n",
       "<table border=\"1\" class=\"dataframe\">\n",
       "  <thead>\n",
       "    <tr style=\"text-align: right;\">\n",
       "      <th></th>\n",
       "      <th>phenoage</th>\n",
       "    </tr>\n",
       "  </thead>\n",
       "  <tbody>\n",
       "    <tr>\n",
       "      <th>patient1</th>\n",
       "      <td>74.348798</td>\n",
       "    </tr>\n",
       "    <tr>\n",
       "      <th>patient2</th>\n",
       "      <td>67.372000</td>\n",
       "    </tr>\n",
       "    <tr>\n",
       "      <th>patient3</th>\n",
       "      <td>74.789739</td>\n",
       "    </tr>\n",
       "    <tr>\n",
       "      <th>patient4</th>\n",
       "      <td>46.991769</td>\n",
       "    </tr>\n",
       "    <tr>\n",
       "      <th>patient5</th>\n",
       "      <td>44.559486</td>\n",
       "    </tr>\n",
       "  </tbody>\n",
       "</table>\n",
       "</div>"
      ],
      "text/plain": [
       "           phenoage\n",
       "patient1  74.348798\n",
       "patient2  67.372000\n",
       "patient3  74.789739\n",
       "patient4  46.991769\n",
       "patient5  44.559486"
      ]
     },
     "execution_count": 8,
     "metadata": {},
     "output_type": "execute_result"
    }
   ],
   "source": [
    "adata.obs.head()"
   ]
  },
  {
   "cell_type": "code",
   "execution_count": 9,
   "metadata": {},
   "outputs": [
    {
     "data": {
      "text/plain": [
       "AnnData object with n_obs × n_vars = 30 × 10\n",
       "    obs: 'phenoage'\n",
       "    var: 'percent_na'\n",
       "    uns: 'phenoage_percent_na', 'phenoage_missing_features', 'phenoage_metadata'\n",
       "    layers: 'X_original'"
      ]
     },
     "execution_count": 9,
     "metadata": {},
     "output_type": "execute_result"
    }
   ],
   "source": [
    "adata"
   ]
  },
  {
   "cell_type": "code",
   "execution_count": 10,
   "metadata": {},
   "outputs": [
    {
     "data": {
      "text/html": [
       "<div>\n",
       "<style scoped>\n",
       "    .dataframe tbody tr th:only-of-type {\n",
       "        vertical-align: middle;\n",
       "    }\n",
       "\n",
       "    .dataframe tbody tr th {\n",
       "        vertical-align: top;\n",
       "    }\n",
       "\n",
       "    .dataframe thead th {\n",
       "        text-align: right;\n",
       "    }\n",
       "</style>\n",
       "<table border=\"1\" class=\"dataframe\">\n",
       "  <thead>\n",
       "    <tr style=\"text-align: right;\">\n",
       "      <th></th>\n",
       "      <th>phenoage</th>\n",
       "      <th>chronological_age</th>\n",
       "    </tr>\n",
       "  </thead>\n",
       "  <tbody>\n",
       "    <tr>\n",
       "      <th>patient1</th>\n",
       "      <td>74.348798</td>\n",
       "      <td>70.2</td>\n",
       "    </tr>\n",
       "    <tr>\n",
       "      <th>patient2</th>\n",
       "      <td>67.372000</td>\n",
       "      <td>76.5</td>\n",
       "    </tr>\n",
       "    <tr>\n",
       "      <th>patient3</th>\n",
       "      <td>74.789739</td>\n",
       "      <td>66.4</td>\n",
       "    </tr>\n",
       "    <tr>\n",
       "      <th>patient4</th>\n",
       "      <td>46.991769</td>\n",
       "      <td>46.5</td>\n",
       "    </tr>\n",
       "    <tr>\n",
       "      <th>patient5</th>\n",
       "      <td>44.559486</td>\n",
       "      <td>42.3</td>\n",
       "    </tr>\n",
       "    <tr>\n",
       "      <th>patient6</th>\n",
       "      <td>72.509460</td>\n",
       "      <td>76.9</td>\n",
       "    </tr>\n",
       "    <tr>\n",
       "      <th>patient7</th>\n",
       "      <td>57.377050</td>\n",
       "      <td>55.1</td>\n",
       "    </tr>\n",
       "    <tr>\n",
       "      <th>patient8</th>\n",
       "      <td>31.779798</td>\n",
       "      <td>34.6</td>\n",
       "    </tr>\n",
       "    <tr>\n",
       "      <th>patient9</th>\n",
       "      <td>50.356509</td>\n",
       "      <td>47.3</td>\n",
       "    </tr>\n",
       "    <tr>\n",
       "      <th>patient10</th>\n",
       "      <td>67.696706</td>\n",
       "      <td>52.3</td>\n",
       "    </tr>\n",
       "    <tr>\n",
       "      <th>patient11</th>\n",
       "      <td>62.601978</td>\n",
       "      <td>47.2</td>\n",
       "    </tr>\n",
       "    <tr>\n",
       "      <th>patient12</th>\n",
       "      <td>41.735924</td>\n",
       "      <td>45.2</td>\n",
       "    </tr>\n",
       "    <tr>\n",
       "      <th>patient13</th>\n",
       "      <td>82.238745</td>\n",
       "      <td>62.9</td>\n",
       "    </tr>\n",
       "    <tr>\n",
       "      <th>patient14</th>\n",
       "      <td>56.677500</td>\n",
       "      <td>40.7</td>\n",
       "    </tr>\n",
       "    <tr>\n",
       "      <th>patient15</th>\n",
       "      <td>46.402083</td>\n",
       "      <td>18.6</td>\n",
       "    </tr>\n",
       "  </tbody>\n",
       "</table>\n",
       "</div>"
      ],
      "text/plain": [
       "            phenoage  chronological_age\n",
       "patient1   74.348798               70.2\n",
       "patient2   67.372000               76.5\n",
       "patient3   74.789739               66.4\n",
       "patient4   46.991769               46.5\n",
       "patient5   44.559486               42.3\n",
       "patient6   72.509460               76.9\n",
       "patient7   57.377050               55.1\n",
       "patient8   31.779798               34.6\n",
       "patient9   50.356509               47.3\n",
       "patient10  67.696706               52.3\n",
       "patient11  62.601978               47.2\n",
       "patient12  41.735924               45.2\n",
       "patient13  82.238745               62.9\n",
       "patient14  56.677500               40.7\n",
       "patient15  46.402083               18.6"
      ]
     },
     "execution_count": 10,
     "metadata": {},
     "output_type": "execute_result"
    }
   ],
   "source": [
    "combined_df = pd.DataFrame({\n",
    "    'phenoage': adata.obs[\"phenoage\"],\n",
    "    'chronological_age': df[\"age\"]\n",
    "})\n",
    "\n",
    "# Display the first few rows\n",
    "combined_df[:15]"
   ]
  },
  {
   "cell_type": "markdown",
   "metadata": {},
   "source": [
    "## Manual Torch Execution"
   ]
  },
  {
   "cell_type": "code",
   "execution_count": 11,
   "metadata": {},
   "outputs": [],
   "source": [
    "class PhenoAge(pyagingModel):\n",
    "    def __init__(self):\n",
    "        super().__init__()\n",
    "\n",
    "    def preprocess(self, x):\n",
    "        return x\n",
    "\n",
    "    def postprocess(self, x):\n",
    "        \"\"\"\n",
    "        Applies a convertion from a CDF of the mortality score from a Gompertz\n",
    "        distribution to phenotypic age.\n",
    "        \"\"\"\n",
    "        # lambda\n",
    "        l = torch.tensor(0.0192, device=x.device, dtype=x.dtype)\n",
    "        mortality_score = 1 - torch.exp(-torch.exp(x) * (torch.exp(120 * l) - 1) / l)\n",
    "        age = 141.50225 + torch.log(-0.00553 * torch.log(1 - mortality_score)) / 0.090165\n",
    "        return age"
   ]
  },
  {
   "cell_type": "code",
   "execution_count": 12,
   "metadata": {},
   "outputs": [],
   "source": [
    "outer_model = PhenoAge()"
   ]
  },
  {
   "cell_type": "code",
   "execution_count": 13,
   "metadata": {},
   "outputs": [
    {
     "name": "stdout",
     "output_type": "stream",
     "text": [
      "Layer: base_model.linear.weight | Size: torch.Size([1, 10]) | Values : tensor([[-0.0336,  0.0095,  0.1953,  0.0954, -0.0120,  0.0268,  0.3306,  0.0019,\n",
      "          0.0554,  0.0804]], dtype=torch.float64, grad_fn=<SliceBackward0>) \n",
      "\n",
      "Layer: base_model.linear.bias | Size: torch.Size([1]) | Values : tensor([-19.9067], dtype=torch.float64, grad_fn=<SliceBackward0>) \n",
      "\n"
     ]
    },
    {
     "data": {
      "text/plain": [
       "PhenoAge(\n",
       "  (base_model): LinearModel(\n",
       "    (linear): Linear(in_features=10, out_features=1, bias=True)\n",
       "  )\n",
       ")"
      ]
     },
     "execution_count": 13,
     "metadata": {},
     "output_type": "execute_result"
    }
   ],
   "source": [
    "device = \"cpu\"\n",
    "weights_path = f\"./pyaging_data/phenoage.pt\"\n",
    "clock = torch.load(weights_path, weights_only=False)\n",
    "\n",
    "for name, param in clock.named_parameters():\n",
    "    print(f\"Layer: {name} | Size: {param.size()} | Values : {param[:2]} \\n\")\n",
    "\n",
    "# Prepare clock for inference\n",
    "clock.to(torch.float64)\n",
    "clock.to(device)\n",
    "clock.eval()"
   ]
  },
  {
   "cell_type": "code",
   "execution_count": 14,
   "metadata": {},
   "outputs": [
    {
     "data": {
      "text/plain": [
       "AnnData object with n_obs × n_vars = 30 × 10\n",
       "    obs: 'phenoage'\n",
       "    var: 'percent_na'\n",
       "    uns: 'phenoage_percent_na', 'phenoage_missing_features', 'phenoage_metadata'\n",
       "    layers: 'X_original'"
      ]
     },
     "execution_count": 14,
     "metadata": {},
     "output_type": "execute_result"
    }
   ],
   "source": [
    "adata"
   ]
  },
  {
   "cell_type": "code",
   "execution_count": 15,
   "metadata": {},
   "outputs": [
    {
     "data": {
      "text/plain": [
       "'phenoage'"
      ]
     },
     "execution_count": 15,
     "metadata": {},
     "output_type": "execute_result"
    }
   ],
   "source": [
    "clock.metadata['clock_name']"
   ]
  },
  {
   "cell_type": "code",
   "execution_count": 16,
   "metadata": {},
   "outputs": [],
   "source": [
    "# dataloader = AnnLoader(adata, batch_size=1024, use_cuda=False)\n",
    "\n",
    "# # Use the AnnLoader for batched prediction\n",
    "# predictions = []\n",
    "# with torch.inference_mode():\n",
    "#     for batch in main_tqdm(dataloader):\n",
    "#         print(batch.obsm)\n",
    "#         batch_pred = clock(batch.obsm[f\"X_{clock.metadata['clock_name']}\"])\n",
    "#         predictions.append(batch_pred)\n",
    "# # Concatenate all batch predictions\n",
    "# predictions = torch.cat(predictions)"
   ]
  },
  {
   "cell_type": "code",
   "execution_count": 17,
   "metadata": {},
   "outputs": [
    {
     "data": {
      "text/html": [
       "<div>\n",
       "<style scoped>\n",
       "    .dataframe tbody tr th:only-of-type {\n",
       "        vertical-align: middle;\n",
       "    }\n",
       "\n",
       "    .dataframe tbody tr th {\n",
       "        vertical-align: top;\n",
       "    }\n",
       "\n",
       "    .dataframe thead th {\n",
       "        text-align: right;\n",
       "    }\n",
       "</style>\n",
       "<table border=\"1\" class=\"dataframe\">\n",
       "  <thead>\n",
       "    <tr style=\"text-align: right;\">\n",
       "      <th></th>\n",
       "      <th>phenoage</th>\n",
       "    </tr>\n",
       "  </thead>\n",
       "  <tbody>\n",
       "    <tr>\n",
       "      <th>patient1</th>\n",
       "      <td>74.348798</td>\n",
       "    </tr>\n",
       "    <tr>\n",
       "      <th>patient2</th>\n",
       "      <td>67.372000</td>\n",
       "    </tr>\n",
       "    <tr>\n",
       "      <th>patient3</th>\n",
       "      <td>74.789739</td>\n",
       "    </tr>\n",
       "    <tr>\n",
       "      <th>patient4</th>\n",
       "      <td>46.991769</td>\n",
       "    </tr>\n",
       "    <tr>\n",
       "      <th>patient5</th>\n",
       "      <td>44.559486</td>\n",
       "    </tr>\n",
       "    <tr>\n",
       "      <th>patient6</th>\n",
       "      <td>72.509460</td>\n",
       "    </tr>\n",
       "    <tr>\n",
       "      <th>patient7</th>\n",
       "      <td>57.377050</td>\n",
       "    </tr>\n",
       "    <tr>\n",
       "      <th>patient8</th>\n",
       "      <td>31.779798</td>\n",
       "    </tr>\n",
       "    <tr>\n",
       "      <th>patient9</th>\n",
       "      <td>50.356509</td>\n",
       "    </tr>\n",
       "    <tr>\n",
       "      <th>patient10</th>\n",
       "      <td>67.696706</td>\n",
       "    </tr>\n",
       "    <tr>\n",
       "      <th>patient11</th>\n",
       "      <td>62.601978</td>\n",
       "    </tr>\n",
       "    <tr>\n",
       "      <th>patient12</th>\n",
       "      <td>41.735924</td>\n",
       "    </tr>\n",
       "    <tr>\n",
       "      <th>patient13</th>\n",
       "      <td>82.238745</td>\n",
       "    </tr>\n",
       "    <tr>\n",
       "      <th>patient14</th>\n",
       "      <td>56.677500</td>\n",
       "    </tr>\n",
       "    <tr>\n",
       "      <th>patient15</th>\n",
       "      <td>46.402083</td>\n",
       "    </tr>\n",
       "    <tr>\n",
       "      <th>patient16</th>\n",
       "      <td>63.710847</td>\n",
       "    </tr>\n",
       "    <tr>\n",
       "      <th>patient17</th>\n",
       "      <td>84.784175</td>\n",
       "    </tr>\n",
       "    <tr>\n",
       "      <th>patient18</th>\n",
       "      <td>87.164951</td>\n",
       "    </tr>\n",
       "    <tr>\n",
       "      <th>patient19</th>\n",
       "      <td>90.205428</td>\n",
       "    </tr>\n",
       "    <tr>\n",
       "      <th>patient20</th>\n",
       "      <td>62.235136</td>\n",
       "    </tr>\n",
       "    <tr>\n",
       "      <th>patient21</th>\n",
       "      <td>25.272845</td>\n",
       "    </tr>\n",
       "    <tr>\n",
       "      <th>patient22</th>\n",
       "      <td>55.211519</td>\n",
       "    </tr>\n",
       "    <tr>\n",
       "      <th>patient23</th>\n",
       "      <td>69.707914</td>\n",
       "    </tr>\n",
       "    <tr>\n",
       "      <th>patient24</th>\n",
       "      <td>49.180186</td>\n",
       "    </tr>\n",
       "    <tr>\n",
       "      <th>patient25</th>\n",
       "      <td>45.259951</td>\n",
       "    </tr>\n",
       "    <tr>\n",
       "      <th>patient26</th>\n",
       "      <td>35.333908</td>\n",
       "    </tr>\n",
       "    <tr>\n",
       "      <th>patient27</th>\n",
       "      <td>81.873746</td>\n",
       "    </tr>\n",
       "    <tr>\n",
       "      <th>patient28</th>\n",
       "      <td>64.559367</td>\n",
       "    </tr>\n",
       "    <tr>\n",
       "      <th>patient29</th>\n",
       "      <td>79.227049</td>\n",
       "    </tr>\n",
       "    <tr>\n",
       "      <th>patient30</th>\n",
       "      <td>58.783946</td>\n",
       "    </tr>\n",
       "  </tbody>\n",
       "</table>\n",
       "</div>"
      ],
      "text/plain": [
       "            phenoage\n",
       "patient1   74.348798\n",
       "patient2   67.372000\n",
       "patient3   74.789739\n",
       "patient4   46.991769\n",
       "patient5   44.559486\n",
       "patient6   72.509460\n",
       "patient7   57.377050\n",
       "patient8   31.779798\n",
       "patient9   50.356509\n",
       "patient10  67.696706\n",
       "patient11  62.601978\n",
       "patient12  41.735924\n",
       "patient13  82.238745\n",
       "patient14  56.677500\n",
       "patient15  46.402083\n",
       "patient16  63.710847\n",
       "patient17  84.784175\n",
       "patient18  87.164951\n",
       "patient19  90.205428\n",
       "patient20  62.235136\n",
       "patient21  25.272845\n",
       "patient22  55.211519\n",
       "patient23  69.707914\n",
       "patient24  49.180186\n",
       "patient25  45.259951\n",
       "patient26  35.333908\n",
       "patient27  81.873746\n",
       "patient28  64.559367\n",
       "patient29  79.227049\n",
       "patient30  58.783946"
      ]
     },
     "execution_count": 17,
     "metadata": {},
     "output_type": "execute_result"
    }
   ],
   "source": [
    "adata.obs"
   ]
  },
  {
   "cell_type": "code",
   "execution_count": 32,
   "metadata": {},
   "outputs": [],
   "source": [
    "dataset = df.iloc[:, 0:10]"
   ]
  },
  {
   "cell_type": "code",
   "execution_count": 22,
   "metadata": {},
   "outputs": [
    {
     "name": "stdout",
     "output_type": "stream",
     "text": [
      "|-----> in progress: 100.0000%\n",
      "ello: AnnCollectionView object with n_obs × n_vars = 30 × 10\n",
      "    layers: 'X_original'\n",
      "    obs: 'phenoage' <class 'anndata.experimental.multi_files._anncollection.AnnCollectionView'>\n"
     ]
    }
   ],
   "source": [
    "with torch.inference_mode():\n",
    "    adata"
   ]
  },
  {
   "cell_type": "code",
   "execution_count": 27,
   "metadata": {},
   "outputs": [
    {
     "data": {
      "text/plain": [
       "Index(['albumin', 'creatinine', 'glucose', 'log_crp', 'lymphocyte_percent',\n",
       "       'mean_cell_volume', 'red_cell_distribution_width',\n",
       "       'alkaline_phosphatase', 'white_blood_cell_count', 'age'],\n",
       "      dtype='object')"
      ]
     },
     "execution_count": 27,
     "metadata": {},
     "output_type": "execute_result"
    }
   ],
   "source": [
    "df.columns"
   ]
  }
 ],
 "metadata": {
  "kernelspec": {
   "display_name": "base",
   "language": "python",
   "name": "python3"
  },
  "language_info": {
   "codemirror_mode": {
    "name": "ipython",
    "version": 3
   },
   "file_extension": ".py",
   "mimetype": "text/x-python",
   "name": "python",
   "nbconvert_exporter": "python",
   "pygments_lexer": "ipython3",
   "version": "3.12.2"
  }
 },
 "nbformat": 4,
 "nbformat_minor": 2
}
